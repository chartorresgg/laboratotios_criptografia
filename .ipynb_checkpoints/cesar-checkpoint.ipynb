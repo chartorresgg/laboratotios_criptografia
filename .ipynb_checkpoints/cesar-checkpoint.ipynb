{
 "cells": [
  {
   "cell_type": "code",
   "execution_count": null,
   "id": "a211d9ea",
   "metadata": {
    "vscode": {
     "languageId": "plaintext"
    }
   },
   "outputs": [],
   "source": [
    "def cifrar_cesar(texto, desplazamiento):\n",
    "    resultado = \"\"\n",
    "    for char in texto:\n",
    "        if char.isalpha():\n",
    "            base = 'A' if char.isupper() else 'a'\n",
    "            resultado += chr((ord(char) - ord(base) + desplazamiento) % 26 + ord(base))\n",
    "        else:\n",
    "            resultado += char\n",
    "    return resultado\n",
    "\n",
    "def descifrar_cesar(texto_cifrado, desplazamiento):\n",
    "    return cifrar_cesar(texto_cifrado, -desplazamiento)"
   ]
  },
  {
   "cell_type": "code",
   "execution_count": null,
   "id": "139aee44",
   "metadata": {
    "vscode": {
     "languageId": "plaintext"
    }
   },
   "outputs": [],
   "source": [
    "mensaje = \"HOLA MUNDO\"\n",
    "clave = 3\n",
    "\n",
    "cifrado = cifrar_cesar(mensaje, clave)\n",
    "print(\"Mensaje original:\", mensaje)\n",
    "print(\"Mensaje cifrado: \", cifrado)"
   ]
  },
  {
   "cell_type": "code",
   "execution_count": null,
   "id": "ca3ac407",
   "metadata": {
    "vscode": {
     "languageId": "plaintext"
    }
   },
   "outputs": [],
   "source": [
    "descifrado = descifrar_cesar(cifrado, clave)\n",
    "print(\"Mensaje descifrado:\", descifrado)\n"
   ]
  },
  {
   "cell_type": "code",
   "execution_count": null,
   "id": "8bf22a6c",
   "metadata": {
    "vscode": {
     "languageId": "plaintext"
    }
   },
   "outputs": [],
   "source": [
    "texto_usuario = \"Hola Mundo\"\n",
    "clave_usuario = 3\n",
    "\n",
    "cifrado_usuario = cifrar_cesar(texto_usuario, clave_usuario)\n",
    "print(\"\\nTexto cifrado:\", cifrado_usuario)\n",
    "\n",
    "descifrado_usuario = descifrar_cesar(cifrado_usuario, clave_usuario)\n",
    "print(\"Texto descifrado:\", descifrado_usuario)"
   ]
  },
  {
   "cell_type": "code",
   "execution_count": null,
   "id": "e8aa2d88",
   "metadata": {
    "vscode": {
     "languageId": "plaintext"
    }
   },
   "outputs": [],
   "source": [
    "import pandas as pd\n",
    "\n",
    "def tabla_sustitucion(desplazamiento):\n",
    "    alfabeto = [chr(i) for i in range(ord('A'), ord('Z')+1)]\n",
    "    alfabeto_cifrado = [chr((ord(letra) - ord('A') + desplazamiento) % 26 + ord('A')) for letra in alfabeto]\n",
    "    \n",
    "    df = pd.DataFrame({\n",
    "        'Letra Original': alfabeto,\n",
    "        f'Letra Cifrada (+{desplazamiento})': alfabeto_cifrado\n",
    "    })\n",
    "    return df\n",
    "\n",
    "# Ejemplo con clave 3\n",
    "tabla_sustitucion(clave)"
   ]
  }
 ],
 "metadata": {
  "language_info": {
   "name": "python"
  }
 },
 "nbformat": 4,
 "nbformat_minor": 5
}

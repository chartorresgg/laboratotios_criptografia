{
    "cells": [
     {
      "cell_type": "markdown",
      "metadata": {},
      "source": [
       "# 🔐 CIFRADO AFÍN\n",
       "\n",
       "**Laboratorio de Criptografía Clásica**\n",
       "\n",
       "---\n",
       "\n",
       "## Estructura del Notebook\n",
       "\n",
       "1. **PARTE PRÁCTICA** - Ejecuta y experimenta con el cifrado\n",
       "2. **PARTE TEÓRICA** - Fundamentos matemáticos y explicación detallada\n",
       "\n",
       "---\n",
       "\n",
       "**Alfabeto utilizado:** A=0, B=1, C=2, ..., Z=25\n",
       "\n",
       "**Fórmulas:**\n",
       "- Cifrado: `E(x) = (a·x + b) mod 26`\n",
       "- Descifrado: `D(y) = a⁻¹·(y - b) mod 26`\n",
       "\n",
       "**Condición:** MCD(a, 26) = 1 (a debe ser coprimo con 26)"
      ]
     },
     {
      "cell_type": "markdown",
      "metadata": {},
      "source": [
       "---\n",
       "\n",
       "# 📝 PARTE PRÁCTICA\n",
       "\n",
       "## 🎯 Ejemplo Completo: Cifrar y Descifrar \"HELLO\""
      ]
     },
     {
      "cell_type": "markdown",
      "metadata": {},
      "source": [
       "### ⚙️ Configuración del Ejemplo\n",
       "\n",
       "Modifica estos valores para experimentar:"
      ]
     },
     {
      "cell_type": "code",
      "execution_count": null,
      "metadata": {},
      "source": [
       "# ============================================\n",
       "# CONFIGURACIÓN - Modifica aquí\n",
       "# ============================================\n",
       "\n",
       "MENSAJE = \"HELLO\"        # Mensaje a cifrar\n",
       "a = 5                     # Coeficiente multiplicativo (debe ser coprimo con 26)\n",
       "b = 8                     # Desplazamiento aditivo\n",
       "\n",
       "print(f\"📝 Mensaje: {MENSAJE}\")\n",
       "print(f\"🔑 Clave: a={a}, b={b}\")"
      ]
     },
     {
      "cell_type": "markdown",
      "metadata": {},
      "source": [
       "### 1. Función: Máximo Común Divisor (MCD)"
      ]
     },
     {
      "cell_type": "code",
      "execution_count": null,
      "metadata": {},
      "source": [
       "def gcd(a, b):\n",
       "    \"\"\"\n",
       "    Calcula el Máximo Común Divisor usando el algoritmo de Euclides.\n",
       "    \n",
       "    El algoritmo funciona así:\n",
       "    1. Divide a entre b y obtiene el residuo r\n",
       "    2. Reemplaza a por b, y b por r\n",
       "    3. Repite hasta que b sea 0\n",
       "    4. El MCD es el último valor de a\n",
       "    \n",
       "    Ejemplo: MCD(48, 18)\n",
       "      48 = 18×2 + 12\n",
       "      18 = 12×1 + 6\n",
       "      12 = 6×2 + 0  → MCD = 6\n",
       "    \"\"\"\n",
       "    while b != 0:\n",
       "        a, b = b, a % b\n",
       "    return a\n",
       "\n",
       "# Prueba\n",
       "print(f\"MCD({a}, 26) = {gcd(a, 26)}\")\n",
       "print(f\"¿Son coprimos? {gcd(a, 26) == 1}\")"
      ]
     },
     {
      "cell_type": "markdown",
      "metadata": {},
      "source": [
       "### 2. Función: Inverso Modular"
      ]
     },
     {
      "cell_type": "code",
      "execution_count": null,
      "metadata": {},
      "source": [
       "def inverso_modular(a, m):\n",
       "    \"\"\"\n",
       "    Calcula el inverso modular de 'a' módulo 'm' usando el Algoritmo de Euclides Extendido.\n",
       "    \n",
       "    El inverso modular a⁻¹ de 'a' mod m es un número que cumple:\n",
       "      a × a⁻¹ ≡ 1 (mod m)\n",
       "    \n",
       "    Solo existe si MCD(a, m) = 1 (a y m son coprimos)\n",
       "    \n",
       "    Ejemplo: Inverso de 5 mod 26\n",
       "      5 × 21 = 105 = 4×26 + 1 ≡ 1 (mod 26)\n",
       "      Por lo tanto, 5⁻¹ = 21 (mod 26)\n",
       "    \"\"\"\n",
       "    if gcd(a, m) != 1:\n",
       "        return None  # No existe inverso\n",
       "    \n",
       "    # Algoritmo de Euclides Extendido\n",
       "    m0, x0, x1 = m, 0, 1\n",
       "    \n",
       "    while a > 1:\n",
       "        q = a // m\n",
       "        m, a = a % m, m\n",
       "        x0, x1 = x1 - q * x0, x0\n",
       "    \n",
       "    return x1 % m0\n",
       "\n",
       "# Calcular inverso de 'a'\n",
       "a_inv = inverso_modular(a, 26)\n",
       "print(f\"Inverso modular de {a} mod 26 = {a_inv}\")\n",
       "print(f\"Verificación: {a} × {a_inv} mod 26 = {(a * a_inv) % 26}\")"
      ]
     },
     {
      "cell_type": "markdown",
      "metadata": {},
      "source": [
       "### 3. Funciones de Conversión"
      ]
     },
     {
      "cell_type": "code",
      "execution_count": null,
      "metadata": {},
      "source": [
       "def texto_a_numeros(texto):\n",
       "    \"\"\"\n",
       "    Convierte texto a lista de números usando el mapeo A=0, B=1, ..., Z=25.\n",
       "    \n",
       "    Proceso:\n",
       "    1. Limpia el texto (solo letras mayúsculas)\n",
       "    2. Para cada letra, calcula: ord(letra) - ord('A')\n",
       "    3. Retorna lista de números\n",
       "    \n",
       "    Ejemplo: \"HELLO\" → [7, 4, 11, 11, 14]\n",
       "    \"\"\"\n",
       "    texto_limpio = ''.join(c.upper() for c in texto if c.isalpha())\n",
       "    return [ord(c) - ord('A') for c in texto_limpio]\n",
       "\n",
       "def numeros_a_texto(numeros):\n",
       "    \"\"\"\n",
       "    Convierte lista de números a texto usando el mapeo 0=A, 1=B, ..., 25=Z.\n",
       "    \n",
       "    Proceso:\n",
       "    1. Para cada número n, calcula: chr(n + ord('A'))\n",
       "    2. Une todos los caracteres en una cadena\n",
       "    \n",
       "    Ejemplo: [7, 4, 11, 11, 14] → \"HELLO\"\n",
       "    \"\"\"\n",
       "    return ''.join(chr(n + ord('A')) for n in numeros)\n",
       "\n",
       "# Convertir mensaje a números\n",
       "numeros_mensaje = texto_a_numeros(MENSAJE)\n",
       "print(f\"Mensaje: {MENSAJE}\")\n",
       "print(f\"Números: {numeros_mensaje}\")\n",
       "print(f\"\\nDetalle:\")\n",
       "for letra, num in zip(MENSAJE, numeros_mensaje):\n",
       "    print(f\"  {letra} → {num:2d}\")"
      ]
     },
     {
      "cell_type": "markdown",
      "metadata": {},
      "source": [
       "### 4. Función: Cifrar"
      ]
     },
     {
      "cell_type": "code",
      "execution_count": null,
      "metadata": {},
      "source": [
       "def cifrar_afin(texto, a, b):\n",
       "    \"\"\"\n",
       "    Cifra un texto usando el Cifrado Afín: E(x) = (a·x + b) mod 26\n",
       "    \n",
       "    Proceso paso a paso:\n",
       "    1. Validar que MCD(a, 26) = 1\n",
       "    2. Convertir texto a números\n",
       "    3. Para cada número x:\n",
       "       - Calcular: c = (a·x + b) mod 26\n",
       "    4. Convertir números cifrados a texto\n",
       "    \n",
       "    Parámetros:\n",
       "        texto: mensaje a cifrar\n",
       "        a: coeficiente multiplicativo (coprimo con 26)\n",
       "        b: desplazamiento aditivo\n",
       "    \n",
       "    Retorna:\n",
       "        Tupla (texto_cifrado, detalles_del_proceso)\n",
       "    \"\"\"\n",
       "    # Validación\n",
       "    if gcd(a, 26) != 1:\n",
       "        raise ValueError(f\"'a' ({a}) no es coprimo con 26. MCD({a}, 26) = {gcd(a, 26)}\")\n",
       "    \n",
       "    # Convertir texto a números\n",
       "    texto_limpio = ''.join(c.upper() for c in texto if c.isalpha())\n",
       "    numeros = texto_a_numeros(texto_limpio)\n",
       "    \n",
       "    # Cifrar cada número\n",
       "    detalles = []\n",
       "    numeros_cifrados = []\n",
       "    \n",
       "    for i, x in enumerate(numeros):\n",
       "        # Aplicar fórmula: c = (a·x + b) mod 26\n",
       "        c = (a * x + b) % 26\n",
       "        numeros_cifrados.append(c)\n",
       "        \n",
       "        detalles.append({\n",
       "            'letra_original': texto_limpio[i],\n",
       "            'x': x,\n",
       "            'operacion': f\"({a}×{x} + {b}) mod 26\",\n",
       "            'calculo': f\"{a*x + b} mod 26\",\n",
       "            'c': c,\n",
       "            'letra_cifrada': chr(c + ord('A'))\n",
       "        })\n",
       "    \n",
       "    texto_cifrado = numeros_a_texto(numeros_cifrados)\n",
       "    return texto_cifrado, detalles\n",
       "\n",
       "# CIFRAR EL MENSAJE\n",
       "texto_cifrado, detalles_cifrado = cifrar_afin(MENSAJE, a, b)\n",
       "\n",
       "print(\"=\"*80)\n",
       "print(\"PROCESO DE CIFRADO\")\n",
       "print(\"=\"*80)\n",
       "print(f\"\\nMensaje original: {MENSAJE}\")\n",
       "print(f\"Clave: a={a}, b={b}\")\n",
       "print(f\"\\nFórmula: E(x) = ({a}·x + {b}) mod 26\")\n",
       "print(\"\\n\" + \"-\"*80)\n",
       "print(f\"{'Letra':<8} {'x':<5} {'Operación':<25} {'Cálculo':<15} {'c':<5} {'Cifrado':<8}\")\n",
       "print(\"-\"*80)\n",
       "\n",
       "for d in detalles_cifrado:\n",
       "    print(f\"{d['letra_original']:<8} {d['x']:<5} {d['operacion']:<25} \"\n",
       "          f\"{d['calculo']:<15} {d['c']:<5} {d['letra_cifrada']:<8}\")\n",
       "\n",
       "print(\"\\n\" + \"=\"*80)\n",
       "print(f\"🔒 MENSAJE CIFRADO: {texto_cifrado}\")\n",
       "print(\"=\"*80)"
      ]
     },
     {
      "cell_type": "markdown",
      "metadata": {},
      "source": [
       "### 5. Función: Descifrar"
      ]
     },
     {
      "cell_type": "code",
      "execution_count": null,
      "metadata": {},
      "source": [
       "def descifrar_afin(texto_cifrado, a, b):\n",
       "    \"\"\"\n",
       "    Descifra un texto usando el Cifrado Afín: D(y) = a⁻¹·(y - b) mod 26\n",
       "    \n",
       "    Proceso paso a paso:\n",
       "    1. Validar que MCD(a, 26) = 1\n",
       "    2. Calcular inverso modular de a: a⁻¹\n",
       "    3. Convertir texto cifrado a números\n",
       "    4. Para cada número y:\n",
       "       - Calcular: x = a⁻¹·(y - b) mod 26\n",
       "    5. Convertir números descifrados a texto\n",
       "    \n",
       "    Parámetros:\n",
       "        texto_cifrado: mensaje cifrado\n",
       "        a: coeficiente multiplicativo (coprimo con 26)\n",
       "        b: desplazamiento aditivo\n",
       "    \n",
       "    Retorna:\n",
       "        Tupla (texto_descifrado, detalles_del_proceso)\n",
       "    \"\"\"\n",
       "    # Validación\n",
       "    if gcd(a, 26) != 1:\n",
       "        raise ValueError(f\"'a' ({a}) no es coprimo con 26. MCD({a}, 26) = {gcd(a, 26)}\")\n",
       "    \n",
       "    # Calcular inverso modular\n",
       "    a_inv = inverso_modular(a, 26)\n",
       "    \n",
       "    # Convertir texto cifrado a números\n",
       "    texto_limpio = ''.join(c.upper() for c in texto_cifrado if c.isalpha())\n",
       "    numeros_cifrados = texto_a_numeros(texto_limpio)\n",
       "    \n",
       "    # Descifrar cada número\n",
       "    detalles = []\n",
       "    numeros_descifrados = []\n",
       "    \n",
       "    for i, y in enumerate(numeros_cifrados):\n",
       "        # Aplicar fórmula: x = a⁻¹·(y - b) mod 26\n",
       "        x = (a_inv * (y - b)) % 26\n",
       "        numeros_descifrados.append(x)\n",
       "        \n",
       "        detalles.append({\n",
       "            'letra_cifrada': texto_limpio[i],\n",
       "            'y': y,\n",
       "            'operacion': f\"{a_inv}×({y} - {b}) mod 26\",\n",
       "            'calculo': f\"{a_inv}×{y-b} mod 26\",\n",
       "            'x': x,\n",
       "            'letra_original': chr(x + ord('A'))\n",
       "        })\n",
       "    \n",
       "    texto_descifrado = numeros_a_texto(numeros_descifrados)\n",
       "    return texto_descifrado, detalles\n",
       "\n",
       "# DESCIFRAR EL MENSAJE\n",
       "texto_descifrado, detalles_descifrado = descifrar_afin(texto_cifrado, a, b)\n",
       "\n",
       "print(\"=\"*80)\n",
       "print(\"PROCESO DE DESCIFRADO\")\n",
       "print(\"=\"*80)\n",
       "print(f\"\\nMensaje cifrado: {texto_cifrado}\")\n",
       "print(f\"Clave: a={a}, b={b}\")\n",
       "print(f\"Inverso modular: a⁻¹ = {a_inv}\")\n",
       "print(f\"\\nFórmula: D(y) = {a_inv}·(y - {b}) mod 26\")\n",
       "print(\"\\n\" + \"-\"*80)\n",
       "print(f\"{'Cifrado':<8} {'y':<5} {'Operación':<25} {'Cálculo':<15} {'x':<5} {'Original':<8}\")\n",
       "print(\"-\"*80)\n",
       "\n",
       "for d in detalles_descifrado:\n",
       "    print(f\"{d['letra_cifrada']:<8} {d['y']:<5} {d['operacion']:<25} \"\n",
       "          f\"{d['calculo']:<15} {d['x']:<5} {d['letra_original']:<8}\")\n",
       "\n",
       "print(\"\\n\" + \"=\"*80)\n",
       "print(f\"🔓 MENSAJE DESCIFRADO: {texto_descifrado}\")\n",
       "print(\"=\"*80)\n",
       "\n",
       "# Verificación\n",
       "print(f\"\\n✅ Verificación: {MENSAJE} == {texto_descifrado} → {MENSAJE == texto_descifrado}\")"
      ]
     },
     {
      "cell_type": "markdown",
      "metadata": {},
      "source": [
       "### 📊 Resumen del Ejemplo"
      ]
     },
     {
      "cell_type": "code",
      "execution_count": null,
      "metadata": {},
      "source": [
       "print(\"=\"*80)\n",
       "print(\" \"*30 + \"RESUMEN\")\n",
       "print(\"=\"*80)\n",
       "print(f\"\\nMensaje original:    {MENSAJE}\")\n",
       "print(f\"Parámetros:          a={a}, b={b}\")\n",
       "print(f\"Inverso modular:     a⁻¹ = {inverso_modular(a, 26)}\")\n",
       "print(f\"\\nMensaje cifrado:     {texto_cifrado}\")\n",
       "print(f\"Mensaje descifrado:  {texto_descifrado}\")\n",
       "print(f\"\\n✓ Cifrado y descifrado exitosos!\")\n",
       "print(\"=\"*80)"
      ]
     },
     {
      "cell_type": "markdown",
      "metadata": {},
      "source": [
       "---\n",
       "\n",
       "## 🧪 Casos de Uso para Probar"
      ]
     },
     {
      "cell_type": "markdown",
      "metadata": {},
      "source": [
       "### Caso 1: Mensaje Simple"
      ]
     },
     {
      "cell_type": "code",
      "execution_count": null,
      "metadata": {},
      "source": [
       "print(\"CASO 1: HELLO\")\n",
       "print(\"-\"*40)\n",
       "mensaje1 = \"HELLO\"\n",
       "cifrado1, _ = cifrar_afin(mensaje1, 5, 8)\n",
       "descifrado1, _ = descifrar_afin(cifrado1, 5, 8)\n",
       "print(f\"Original:   {mensaje1}\")\n",
       "print(f\"Cifrado:    {cifrado1}\")\n",
       "print(f\"Descifrado: {descifrado1}\")\n",
       "print(f\"✓ Correcto: {mensaje1 == descifrado1}\\n\")"
      ]
     },
     {
      "cell_type": "markdown",
      "metadata": {},
      "source": [
       "### Caso 2: Frase Completa"
      ]
     },
     {
      "cell_type": "code",
      "execution_count": null,
      "metadata": {},
      "source": [
       "print(\"CASO 2: AFFINE CIPHER\")\n",
       "print(\"-\"*40)\n",
       "mensaje2 = \"AFFINE CIPHER\"\n",
       "cifrado2, _ = cifrar_afin(mensaje2, 7, 3)\n",
       "descifrado2, _ = descifrar_afin(cifrado2, 7, 3)\n",
       "print(f\"Original:   {mensaje2}\")\n",
       "print(f\"Cifrado:    {cifrado2}\")\n",
       "print(f\"Descifrado: {descifrado2}\")\n",
       "print(f\"✓ Correcto: {mensaje2.replace(' ', '') == descifrado2}\\n\")"
      ]
     },
     {
      "cell_type": "markdown",
      "metadata": {},
      "source": [
       "### Caso 3: Solo Desplazamiento (a=1)"
      ]
     },
     {
      "cell_type": "code",
      "execution_count": null,
      "metadata": {},
      "source": [
       "print(\"CASO 3: CRYPTOGRAPHY (César Equivalente)\")\n",
       "print(\"-\"*40)\n",
       "mensaje3 = \"CRYPTOGRAPHY\"\n",
       "cifrado3, _ = cifrar_afin(mensaje3, 1, 13)  # Equivalente a César con shift=13\n",
       "descifrado3, _ = descifrar_afin(cifrado3, 1, 13)\n",
       "print(f\"Original:   {mensaje3}\")\n",
       "print(f\"Cifrado:    {cifrado3}\")\n",
       "print(f\"Descifrado: {descifrado3}\")\n",
       "print(f\"✓ Correcto: {mensaje3 == descifrado3}\")\n",
       "print(f\"\\n💡 Nota: Con a=1, el cifrado afín se convierte en cifrado César\")"
      ]
     },
     {
      "cell_type": "markdown",
      "metadata": {},
      "source": [
       "---\n",
       "\n",
       "# 📚 PARTE TEÓRICA\n",
       "\n",
       "## 1. ¿Qué es el Cifrado Afín?"
      ]
     },
     {
      "cell_type": "markdown",
      "metadata": {},
      "source": [
       "El **Cifrado Afín** es un tipo de cifrado por sustitución monoalfabética que combina:\n",
       "\n",
       "1. **Multiplicación** (coeficiente `a`)\n",
       "2. **Suma** (desplazamiento `b`)\n",
       "\n",
       "### Fórmulas Matemáticas\n",
       "\n",
       "**Cifrado:**\n",
       "```\n",
       "E(x) = (a·x + b) mod 26\n",
       "```\n",
       "\n",
       "**Descifrado:**\n",
       "```\n",
       "D(y) = a⁻¹·(y - b) mod 26\n",
       "```\n",
       "\n",
       "Donde:\n",
       "- `x`: letra original (0-25)\n",
       "- `y`: letra cifrada (0-25)\n",
       "- `a`: coeficiente multiplicativo (debe ser coprimo con 26)\n",
       "- `b`: desplazamiento aditivo (0-25)\n",
       "- `a⁻¹`: inverso modular de `a` módulo 26\n",
       "\n",
       "### Condición Importante\n",
       "\n",
       "**MCD(a, 26) = 1**\n",
       "\n",
       "Es decir, `a` y 26 deben ser **coprimos** (no tener factores comunes excepto 1). Esto garantiza que exista el inverso modular `a⁻¹`.\n",
       "\n",
       "**Valores válidos de `a`:**\n",
       "```\n",
       "1, 3, 5, 7, 9, 11, 15, 17, 19, 21, 23, 25\n",
       "```\n",
       "(12 valores posibles)"
      ]
     },
     {
      "cell_type": "markdown",
      "metadata": {},
      "source": [
       "## 2. Máximo Común Divisor (MCD) - Algoritmo de Euclides"
      ]
     },
     {
      "cell_type": "markdown",
      "metadata": {},
      "source": [
       "### Teoría\n",
       "\n",
       "El **Algoritmo de Euclides** calcula el MCD de dos números basándose en el principio:\n",
       "\n",
       "```\n",
       "MCD(a, b) = MCD(b, a mod b)\n",
       "```\n",
       "\n",
       "Se repite hasta que `b = 0`, momento en el cual `a` es el MCD.\n",
       "\n",
       "### Ejemplo: MCD(48, 18)\n",
       "\n",
       "```\n",
       "48 = 18×2 + 12  →  MCD(48, 18) = MCD(18, 12)\n",
       "18 = 12×1 + 6   →  MCD(18, 12) = MCD(12, 6)\n",
       "12 = 6×2 + 0    →  MCD(12, 6) = MCD(6, 0) = 6\n",
       "```\n",
       "\n",
       "**Resultado:** MCD(48, 18) = 6"
      ]
     },
     {
      "cell_type": "code",
      "execution_count": null,
      "metadata": {},
      "source": [
       "# Ejemplo práctico\n",
       "print(\"Verificación de coprimos con 26:\")\n",
       "print(\"-\"*40)\n",
       "for i in range(1, 26):\n",
       "    mcd = gcd(i, 26)\n",
       "    coprimo = \"✓ SÍ\" if mcd == 1 else \"✗ NO\"\n",
       "    print(f\"MCD({i:2d}, 26) = {mcd:2d}  →  {coprimo}\")"
      ]
     },
     {
      "cell_type": "markdown",
      "metadata": {},
      "source": [
       "## 3. Inverso Modular - Algoritmo de Euclides Extendido"
      ]
     },
     {
      "cell_type": "markdown",
      "metadata": {},
      "source": [
       "### Teoría\n",
       "\n",
       "El **inverso modular** de `a` módulo `m` es un número `a⁻¹` tal que:\n",
       "\n",
       "```\n",
       "a × a⁻¹ ≡ 1 (mod m)\n",
       "```\n",
       "\n",
       "Solo existe si MCD(a, m) = 1.\n",
       "\n",
       "### Ejemplo: Inverso de 5 mod 26\n",
       "\n",
       "Buscamos un número `x` tal que:\n",
       "```\n",
       "5x ≡ 1 (mod 26)\n",
       "```\n",
       "\n",
       "Probando:\n",
       "```\n",
       "5 × 21 = 105 = 4×26 + 1 ≡ 1 (mod 26) ✓\n",
       "```\n",
       "\n",
       "**Resultado:** 5⁻¹ = 21 (mod 26)"
      ]
     },
     {
      "cell_type": "code",
      "execution_count": null,
      "metadata": {},
      "source": [
       "# Tabla de inversos modulares\n",
       "print(\"Tabla de Inversos Modulares (mod 26)\")\n",
       "print(\"=\"*50)\n",
       "print(f\"{'a':<5} {'a⁻¹':<5} {'Verificación: a × a⁻¹ mod 26':<30}\")\n",
       "print(\"-\"*50)\n",
       "\n",
       "valores_validos = [1, 3, 5, 7, 9, 11, 15, 17, 19, 21, 23, 25]\n",
       "for a_val in valores_validos:\n",
       "    a_inv_val = inverso_modular(a_val, 26)\n",
       "    verificacion = (a_val * a_inv_val) % 26\n",
       "    print(f\"{a_val:<5} {a_inv_val:<5} {a_val} × {a_inv_val} = {a_val * a_inv_val} ≡ {verificacion} (mod 26)\")"
      ]
     },
     {
      "cell_type": "markdown",
      "metadata": {},
      "source": [
       "## 4. Proceso de Cifrado - Ejemplo Detallado"
      ]
     },
     {
      "cell_type": "markdown",
      "metadata": {},
      "source": [
       "### Ejemplo: Cifrar \"CAT\" con a=5, b=8\n",
       "\n",
       "**Paso 1:** Convertir letras a números\n",
       "```\n",
       "C = 2\n",
       "A = 0\n",
       "T = 19\n",
       "```\n",
       "\n",
       "**Paso 2:** Aplicar fórmula E(x) = (5x + 8) mod 26\n",
       "```\n",
       "C: (5×2 + 8) mod 26 = 18 mod 26 = 18 → S\n",
       "A: (5×0 + 8) mod 26 = 8 mod 26 = 8 → I\n",
       "T: (5×19 + 8) mod 26 = 103 mod 26 = 25 → Z\n",
       "```\n",
       "\n",
       "**Resultado:** \"CAT\" → \"SIZ\""
      ]
     },
     {
      "cell_type": "code",
      "execution_count": null,
      "metadata": {},
      "source": [
       "# Ejemplo interactivo\n",
       "ejemplo = \"CAT\"\n",
       "a_ej, b_ej = 5, 8\n",
       "\n",
       "print(f\"Cifrando '{ejemplo}' con a={a_ej}, b={b_ej}\")\n",
       "print(\"=\"*60)\n",
       "\n",
       "cifrado_ej, detalles_ej = cifrar_afin(ejemplo, a_ej, b_ej)\n",
       "\n",
       "for d in detalles_ej:\n",
       "    print(f\"{d['letra_original']}: {d['operacion']} = {d['calculo']} = {d['c']} → {d['letra_cifrada']}\")\n",
       "\n",
       "print(f\"\\nResultado: '{ejemplo}' → '{cifrado_ej}'\")"
      ]
     },
     {
      "cell_type": "markdown",
      "metadata": {},
      "source": [
       "## 5. Proceso de Descifrado - Ejemplo Detallado"
      ]
     },
     {
      "cell_type": "markdown",
      "metadata": {},
      "source": [
       "### Ejemplo: Descifrar \"SIZ\" con a=5, b=8\n",
       "\n",
       "**Paso 1:** Calcular inverso modular de a\n",
       "```\n",
       "5⁻¹ = 21 (mod 26)\n",
       "```\n",
       "\n",
       "**Paso 2:** Convertir letras cifradas a números\n",
       "```\n",
       "S = 18\n",
       "I = 8\n",
       "Z = 25\n",
       "```\n",
       "\n",
       "**Paso 3:** Aplicar fórmula D(y) = 21(y - 8) mod 26\n",
       "```\n",
       "S: 21×(18-8) mod 26 = 21×10 mod 26 = 210 mod 26 = 2 → C\n",
       "I: 21×(8-8) mod 26 = 21×0 mod 26 = 0 mod 26 = 0 → A\n",
       "Z: 21×(25-8) mod 26 = 21×17 mod 26 = 357 mod 26 = 19 → T\n",
       "```\n",
       "\n",
       "**Resultado:** \"SIZ\" → \"CAT\""
      ]
     },
     {
      "cell_type": "code",
      "execution_count": null,
      "metadata": {},
      "source": [
       "# Ejemplo interactivo de descifrado\n",
       "print(f\"Descifrando '{cifrado_ej}' con a={a_ej}, b={b_ej}\")\n",
       "print(\"=\"*60)\n",
       "\n",
       "descifrado_ej, detalles_desc_ej = descifrar_afin(cifrado_ej, a_ej, b_ej)\n",
       "\n",
       "a_inv_ej = inverso_modular(a_ej, 26)\n",
       "print(f\"Inverso modular: {a_ej}⁻¹ = {a_inv_ej}\\n\")\n",
       "\n",
       "for d in detalles_desc_ej:\n",
       "    print(f\"{d['letra_cifrada']}: {d['operacion']} = {d['calculo']} = {d['x']} → {d['letra_original']}\")\n",
       "\n",
       "print(f\"\\nResultado: '{cifrado_ej}' → '{descifrado_ej}'\")"
      ]
     },
     {
      "cell_type": "markdown",
      "metadata": {},
      "source": [
       "## 6. Seguridad del Cifrado Afín"
      ]
     },
     {
      "cell_type": "markdown",
      "metadata": {},
      "source": [
       "### Espacio de Claves\n",
       "\n",
       "- **Valores posibles de `a`:** 12 (coprimos con 26)\n",
       "- **Valores posibles de `b`:** 26 (0-25)\n",
       "- **Total de claves:** 12 × 26 = **312 claves**\n",
       "\n",
       "### Vulnerabilidades\n",
       "\n",
       "1. **Espacio de claves pequeño**: 312 claves se pueden probar por fuerza bruta fácilmente\n",
       "2. **Cifrado monoalfabético**: Preserva la frecuencia de letras\n",
       "3. **Ataques conocidos**:\n",
       "   - Análisis de frecuencias\n",
       "   - Ataque por texto conocido (necesita solo 2 pares letra-cifrado)\n",
       "   - Fuerza bruta\n",
       "\n",
       "### Caso Especial: César\n",
       "\n",
       "Cuando `a = 1`, el cifrado afín se reduce al **Cifrado César**:\n",
       "```\n",
       "E(x) = (1×x + b) mod 26 = (x + b) mod 26\n",
       "```\n",
       "\n",
       "### Conclusión\n",
       "\n",
       "El cifrado afín es de **interés histórico y educativo**, pero **NO debe usarse** para proteger información real. Los algoritmos modernos (AES, RSA) son mucho más seguros."
      ]
     },
     {
      "cell_type": "markdown",
      "metadata": {},
      "source": [
       "---\n",
       "\n",
       "## 📊 Suite de Pruebas Completa"
      ]
     },
     {
      "cell_type": "code",
      "execution_count": null,
      "metadata": {},
      "source": [
       "def suite_pruebas():\n",
       "    \"\"\"Suite completa de pruebas para validar la implementación.\"\"\"\n",
       "    \n",
       "    print(\"=\"*80)\n",
       "    print(\" \"*25 + \"SUITE DE PRUEBAS\")\n",
       "    print(\"=\"*80)\n",
       "    \n",
       "    casos_prueba = [\n",
       "        {\"texto\": \"HELLO\", \"a\": 5, \"b\": 8, \"esperado\": \"RCLLA\"},\n",
       "        {\"texto\": \"AFFINECIPHER\", \"a\": 7, \"b\": 3, \"esperado\": \"TQQBGVHBUCVM\"},\n",
       "        {\"texto\": \"CRYPTOGRAPHY\", \"a\": 1, \"b\": 13, \"esperado\": \"PELCGBTENCUL\"},\n",
       "        {\"texto\": \"MATHEMATICS\", \"a\": 9, \"b\": 2, \"esperado\": \"AMLREALKYQ\"},\n",
       "        {\"texto\": \"SECURITY\", \"a\": 11, \"b\": 5, \"esperado\": \"HTZFAPEJ\"},\n",
       "    ]\n",
       "    \n",
       "    exitos = 0\n",
       "    fallos = 0\n",
       "    \n",
       "    for i, caso in enumerate(casos_prueba, 1):\n",
       "        print(f\"\\nPrueba {i}: {caso['texto']}\")\n",
       "        print(\"-\"*80)\n",
       "        \n",
       "        try:\n",
       "            # Cifrar\n",
       "            cifrado, _ = cifrar_afin(caso['texto'], caso['a'], caso['b'])\n",
       "            \n",
       "            # Descifrar\n",
       "            descifrado, _ = descifrar_afin(cifrado, caso['a'], caso['b'])\n",
       "            \n",
       "            # Verificar\n",
       "            original_limpio = ''.join(c for c in caso['texto'] if c.isalpha())\n",
       "            cifrado_correcto = (cifrado == caso['esperado'])\n",
       "            descifrado_correcto = (descifrado == original_limpio)\n",
       "            \n",
       "            print(f\"Original:       {caso['texto']}\")\n",
       "            print(f\"a={caso['a']}, b={caso['b']}\")\n",
       "            print(f\"Cifrado:        {cifrado}\")\n",
       "            print(f\"Esperado:       {caso['esperado']}\")\n",
       "            print(f\"Descifrado:     {descifrado}\")\n",
       "            \n",
       "            if cifrado_correcto and descifrado_correcto:\n",
       "                print(\"✅ ÉXITO\")\n",
       "                exitos += 1\n",
       "            else:\n",
       "                print(\"❌ FALLO\")\n",
       "                fallos += 1\n",
       "                if not cifrado_correcto:\n",
       "                    print(f\"   Cifrado incorrecto: {cifrado} != {caso['esperado']}\")\n",
       "                if not descifrado_correcto:\n",
       "                    print(f\"   Descifrado incorrecto: {descifrado} != {original_limpio}\")\n",
       "        \n",
       "        except Exception as e:\n",
       "            print(f\"❌ ERROR: {e}\")\n",
       "            fallos += 1\n",
       "    \n",
       "    # Resumen\n",
       "    print(\"\\n\" + \"=\"*80)\n",
       "    print(\" \"*30 + \"RESUMEN\")\n",
       "    print(\"=\"*80)\n",
       "    print(f\"Total de pruebas: {len(casos_prueba)}\")\n",
       "    print(f\"✅ Éxitos: {exitos}\")\n",
       "    print(f\"❌ Fallos: {fallos}\")\n",
       "    print(f\"Tasa de éxito: {(exitos/len(casos_prueba)*100):.1f}%\")\n",
       "    print(\"=\"*80)\n",
       "\n",
       "# Ejecutar suite de pruebas\n",
       "suite_pruebas()"
      ]
     },
     {
      "cell_type": "markdown",
      "metadata": {},
      "source": [
       "---\n",
       "\n",
       "## 🎓 Conclusiones y Próximos Pasos"
      ]
     },
     {
      "cell_type": "markdown",
      "metadata": {},
      "source": [
       "### Lo que aprendimos\n",
       "\n",
       "1. **Cifrado Afín**: Combina multiplicación y suma módulo 26\n",
       "2. **MCD (Euclides)**: Determina si dos números son coprimos\n",
       "3. **Inverso Modular**: Necesario para el descifrado\n",
       "4. **Seguridad**: El cifrado afín es débil para uso real\n",
       "\n",
       "### Aplicaciones Educativas\n",
       "\n",
       "- Introducción a la criptografía\n",
       "- Práctica con aritmética modular\n",
       "- Base para entender cifrados más complejos\n",
       "\n",
       "### Referencias\n",
       "\n",
       "- **Schneier, Bruce** (1996): \"Applied Cryptography\"\n",
       "- **Stinson, Douglas** (2005): \"Cryptography: Theory and Practice\"\n",
       "- **Wikipedia**: Affine cipher, Modular arithmetic\n",
       "\n",
       "---\n",
       "\n",
       "**Laboratorio completado exitosamente** ✅"
      ]
     }
    ],
    "metadata": {
     "kernelspec": {
      "display_name": "Python 3",
      "language": "python",
      "name": "python3"
     },
     "language_info": {
      "codemirror_mode": {
       "name": "ipython",
       "version": 3
      },
      "file_extension": ".py",
      "mimetype": "text/x-python",
      "name": "python",
      "nbconvert_exporter": "python",
      "pygments_lexer": "ipython3",
      "version": "3.8.0"
     }
    },
    "nbformat": 4,
    "nbformat_minor": 4
   }
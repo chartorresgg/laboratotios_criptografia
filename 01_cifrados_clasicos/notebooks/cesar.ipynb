{
 "cells": [
  {
   "cell_type": "code",
   "execution_count": 1,
   "id": "a211d9ea",
   "metadata": {
    "vscode": {
     "languageId": "plaintext"
    }
   },
   "outputs": [],
   "source": [
    "def cifrar_cesar(texto, desplazamiento):\n",
    "    resultado = \"\"\n",
    "    for char in texto:\n",
    "        if char.isalpha():\n",
    "            base = 'A' if char.isupper() else 'a'\n",
    "            resultado += chr((ord(char) - ord(base) + desplazamiento) % 26 + ord(base))\n",
    "        else:\n",
    "            resultado += char\n",
    "    return resultado\n",
    "\n",
    "def descifrar_cesar(texto_cifrado, desplazamiento):\n",
    "    return cifrar_cesar(texto_cifrado, -desplazamiento)"
   ]
  },
  {
   "cell_type": "code",
   "execution_count": 2,
   "id": "139aee44",
   "metadata": {
    "vscode": {
     "languageId": "plaintext"
    }
   },
   "outputs": [
    {
     "name": "stdout",
     "output_type": "stream",
     "text": [
      "Mensaje original: HOLA MUNDO\n",
      "Mensaje cifrado:  KROD PXQGR\n"
     ]
    }
   ],
   "source": [
    "mensaje = \"HOLA MUNDO\"\n",
    "clave = 3\n",
    "\n",
    "cifrado = cifrar_cesar(mensaje, clave)\n",
    "print(\"Mensaje original:\", mensaje)\n",
    "print(\"Mensaje cifrado: \", cifrado)"
   ]
  },
  {
   "cell_type": "code",
   "execution_count": 3,
   "id": "ca3ac407",
   "metadata": {
    "vscode": {
     "languageId": "plaintext"
    }
   },
   "outputs": [
    {
     "name": "stdout",
     "output_type": "stream",
     "text": [
      "Mensaje descifrado: HOLA MUNDO\n"
     ]
    }
   ],
   "source": [
    "descifrado = descifrar_cesar(cifrado, clave)\n",
    "print(\"Mensaje descifrado:\", descifrado)\n"
   ]
  },
  {
   "cell_type": "code",
   "execution_count": 4,
   "id": "8bf22a6c",
   "metadata": {
    "vscode": {
     "languageId": "plaintext"
    }
   },
   "outputs": [
    {
     "name": "stdout",
     "output_type": "stream",
     "text": [
      "\n",
      "Texto cifrado: Krod Pxqgr\n",
      "Texto descifrado: Hola Mundo\n"
     ]
    }
   ],
   "source": [
    "texto_usuario = \"Hola Mundo\"\n",
    "clave_usuario = 3\n",
    "\n",
    "cifrado_usuario = cifrar_cesar(texto_usuario, clave_usuario)\n",
    "print(\"\\nTexto cifrado:\", cifrado_usuario)\n",
    "\n",
    "descifrado_usuario = descifrar_cesar(cifrado_usuario, clave_usuario)\n",
    "print(\"Texto descifrado:\", descifrado_usuario)"
   ]
  },
  {
   "cell_type": "code",
   "execution_count": 5,
   "id": "e8aa2d88",
   "metadata": {
    "vscode": {
     "languageId": "plaintext"
    }
   },
   "outputs": [
    {
     "data": {
      "text/html": [
       "<div>\n",
       "<style scoped>\n",
       "    .dataframe tbody tr th:only-of-type {\n",
       "        vertical-align: middle;\n",
       "    }\n",
       "\n",
       "    .dataframe tbody tr th {\n",
       "        vertical-align: top;\n",
       "    }\n",
       "\n",
       "    .dataframe thead th {\n",
       "        text-align: right;\n",
       "    }\n",
       "</style>\n",
       "<table border=\"1\" class=\"dataframe\">\n",
       "  <thead>\n",
       "    <tr style=\"text-align: right;\">\n",
       "      <th></th>\n",
       "      <th>Letra Original</th>\n",
       "      <th>Letra Cifrada (+3)</th>\n",
       "    </tr>\n",
       "  </thead>\n",
       "  <tbody>\n",
       "    <tr>\n",
       "      <th>0</th>\n",
       "      <td>A</td>\n",
       "      <td>D</td>\n",
       "    </tr>\n",
       "    <tr>\n",
       "      <th>1</th>\n",
       "      <td>B</td>\n",
       "      <td>E</td>\n",
       "    </tr>\n",
       "    <tr>\n",
       "      <th>2</th>\n",
       "      <td>C</td>\n",
       "      <td>F</td>\n",
       "    </tr>\n",
       "    <tr>\n",
       "      <th>3</th>\n",
       "      <td>D</td>\n",
       "      <td>G</td>\n",
       "    </tr>\n",
       "    <tr>\n",
       "      <th>4</th>\n",
       "      <td>E</td>\n",
       "      <td>H</td>\n",
       "    </tr>\n",
       "    <tr>\n",
       "      <th>5</th>\n",
       "      <td>F</td>\n",
       "      <td>I</td>\n",
       "    </tr>\n",
       "    <tr>\n",
       "      <th>6</th>\n",
       "      <td>G</td>\n",
       "      <td>J</td>\n",
       "    </tr>\n",
       "    <tr>\n",
       "      <th>7</th>\n",
       "      <td>H</td>\n",
       "      <td>K</td>\n",
       "    </tr>\n",
       "    <tr>\n",
       "      <th>8</th>\n",
       "      <td>I</td>\n",
       "      <td>L</td>\n",
       "    </tr>\n",
       "    <tr>\n",
       "      <th>9</th>\n",
       "      <td>J</td>\n",
       "      <td>M</td>\n",
       "    </tr>\n",
       "    <tr>\n",
       "      <th>10</th>\n",
       "      <td>K</td>\n",
       "      <td>N</td>\n",
       "    </tr>\n",
       "    <tr>\n",
       "      <th>11</th>\n",
       "      <td>L</td>\n",
       "      <td>O</td>\n",
       "    </tr>\n",
       "    <tr>\n",
       "      <th>12</th>\n",
       "      <td>M</td>\n",
       "      <td>P</td>\n",
       "    </tr>\n",
       "    <tr>\n",
       "      <th>13</th>\n",
       "      <td>N</td>\n",
       "      <td>Q</td>\n",
       "    </tr>\n",
       "    <tr>\n",
       "      <th>14</th>\n",
       "      <td>O</td>\n",
       "      <td>R</td>\n",
       "    </tr>\n",
       "    <tr>\n",
       "      <th>15</th>\n",
       "      <td>P</td>\n",
       "      <td>S</td>\n",
       "    </tr>\n",
       "    <tr>\n",
       "      <th>16</th>\n",
       "      <td>Q</td>\n",
       "      <td>T</td>\n",
       "    </tr>\n",
       "    <tr>\n",
       "      <th>17</th>\n",
       "      <td>R</td>\n",
       "      <td>U</td>\n",
       "    </tr>\n",
       "    <tr>\n",
       "      <th>18</th>\n",
       "      <td>S</td>\n",
       "      <td>V</td>\n",
       "    </tr>\n",
       "    <tr>\n",
       "      <th>19</th>\n",
       "      <td>T</td>\n",
       "      <td>W</td>\n",
       "    </tr>\n",
       "    <tr>\n",
       "      <th>20</th>\n",
       "      <td>U</td>\n",
       "      <td>X</td>\n",
       "    </tr>\n",
       "    <tr>\n",
       "      <th>21</th>\n",
       "      <td>V</td>\n",
       "      <td>Y</td>\n",
       "    </tr>\n",
       "    <tr>\n",
       "      <th>22</th>\n",
       "      <td>W</td>\n",
       "      <td>Z</td>\n",
       "    </tr>\n",
       "    <tr>\n",
       "      <th>23</th>\n",
       "      <td>X</td>\n",
       "      <td>A</td>\n",
       "    </tr>\n",
       "    <tr>\n",
       "      <th>24</th>\n",
       "      <td>Y</td>\n",
       "      <td>B</td>\n",
       "    </tr>\n",
       "    <tr>\n",
       "      <th>25</th>\n",
       "      <td>Z</td>\n",
       "      <td>C</td>\n",
       "    </tr>\n",
       "  </tbody>\n",
       "</table>\n",
       "</div>"
      ],
      "text/plain": [
       "   Letra Original Letra Cifrada (+3)\n",
       "0               A                  D\n",
       "1               B                  E\n",
       "2               C                  F\n",
       "3               D                  G\n",
       "4               E                  H\n",
       "5               F                  I\n",
       "6               G                  J\n",
       "7               H                  K\n",
       "8               I                  L\n",
       "9               J                  M\n",
       "10              K                  N\n",
       "11              L                  O\n",
       "12              M                  P\n",
       "13              N                  Q\n",
       "14              O                  R\n",
       "15              P                  S\n",
       "16              Q                  T\n",
       "17              R                  U\n",
       "18              S                  V\n",
       "19              T                  W\n",
       "20              U                  X\n",
       "21              V                  Y\n",
       "22              W                  Z\n",
       "23              X                  A\n",
       "24              Y                  B\n",
       "25              Z                  C"
      ]
     },
     "execution_count": 5,
     "metadata": {},
     "output_type": "execute_result"
    }
   ],
   "source": [
    "import pandas as pd\n",
    "\n",
    "def tabla_sustitucion(desplazamiento):\n",
    "    alfabeto = [chr(i) for i in range(ord('A'), ord('Z')+1)]\n",
    "    alfabeto_cifrado = [chr((ord(letra) - ord('A') + desplazamiento) % 26 + ord('A')) for letra in alfabeto]\n",
    "    \n",
    "    df = pd.DataFrame({\n",
    "        'Letra Original': alfabeto,\n",
    "        f'Letra Cifrada (+{desplazamiento})': alfabeto_cifrado\n",
    "    })\n",
    "    return df\n",
    "\n",
    "# Ejemplo con clave 3\n",
    "tabla_sustitucion(clave)"
   ]
  },
  {
   "cell_type": "code",
   "execution_count": null,
   "id": "fcfff90b-96e7-4e71-b18e-79b74ed814c6",
   "metadata": {},
   "outputs": [],
   "source": []
  }
 ],
 "metadata": {
  "kernelspec": {
   "display_name": "Python (venv_cryptography)",
   "language": "python",
   "name": "venv_cryptography"
  },
  "language_info": {
   "codemirror_mode": {
    "name": "ipython",
    "version": 3
   },
   "file_extension": ".py",
   "mimetype": "text/x-python",
   "name": "python",
   "nbconvert_exporter": "python",
   "pygments_lexer": "ipython3",
   "version": "3.13.5"
  }
 },
 "nbformat": 4,
 "nbformat_minor": 5
}

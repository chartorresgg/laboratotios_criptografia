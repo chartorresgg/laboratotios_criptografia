{
 "cells": [
  {
   "cell_type": "code",
   "execution_count": 53,
   "id": "f57129f6-747a-4b07-8381-85d24ad26c6e",
   "metadata": {},
   "outputs": [
    {
     "name": "stdout",
     "output_type": "stream",
     "text": [
      "=== Pruebas de Suma Modular ===\n",
      "modular_addition(5, 3, 7) = 1\n",
      "modular_addition(10, 15, 12) = 1\n",
      "modular_addition(-2, 5, 7) = 3\n"
     ]
    }
   ],
   "source": [
    "# LABORATORIO #1\n",
    "# Integrantes: Carlos Eduardo Guzmán Torres.\n",
    "# -----------------------------------------------------------------------------------------------------\n",
    "# 1.1 Suma modular\n",
    "# Función que calcula la suma de dos enteros módulo p.\n",
    "# Argumentos: a (primer entero), b (segundo entero), p (módulo entero)\n",
    "# Return: Resultado de (a + b) mod p\n",
    "def modular_addition(a: int, b: int, p: int) -> int:\n",
    "    \n",
    "    return (a + b) % p # Retorno de la operación\n",
    "\n",
    "# Pruebas para suma modular\n",
    "print(\"=== Pruebas de Suma Modular ===\")\n",
    "print(f\"modular_addition(5, 3, 7) = {modular_addition(5, 3, 7)}\")\n",
    "print(f\"modular_addition(10, 15, 12) = {modular_addition(10, 15, 12)}\")\n",
    "print(f\"modular_addition(-2, 5, 7) = {modular_addition(-2, 5, 7)}\")"
   ]
  },
  {
   "cell_type": "code",
   "execution_count": 54,
   "id": "8843188f-ab0a-4578-b076-3eb18926bb19",
   "metadata": {},
   "outputs": [
    {
     "name": "stdout",
     "output_type": "stream",
     "text": [
      "\n",
      "=== Pruebas de Resta Modular ===\n",
      "modular_subtraction(5, 3, 7) = 2\n",
      "modular_subtraction(3, 5, 7) = 5\n",
      "modular_subtraction(10, 15, 12) = 7\n"
     ]
    }
   ],
   "source": [
    "### 1.2 Resta Modular\n",
    "# Función que calcula la resta de dos enteros módulo p.\n",
    "# Argumentos: a (primer entero), b (segundo entero), p (módulo entero)\n",
    "# Return: Resultado de (a - b) mod p\n",
    "def modular_subtraction(a: int, b: int, p: int) -> int:\n",
    "    \n",
    "    return (a - b) % p # Retorno de la operación\n",
    "\n",
    "# Pruebas para resta modular\n",
    "print(\"\\n=== Pruebas de Resta Modular ===\")\n",
    "print(f\"modular_subtraction(5, 3, 7) = {modular_subtraction(5, 3, 7)}\")\n",
    "print(f\"modular_subtraction(3, 5, 7) = {modular_subtraction(3, 5, 7)}\")\n",
    "print(f\"modular_subtraction(10, 15, 12) = {modular_subtraction(10, 15, 12)}\")"
   ]
  },
  {
   "cell_type": "code",
   "execution_count": 55,
   "id": "68d08c2c-77f5-45a6-9243-bbc93dec0252",
   "metadata": {},
   "outputs": [
    {
     "name": "stdout",
     "output_type": "stream",
     "text": [
      "\n",
      "=== Pruebas de Multiplicación Modular ===\n",
      "modular_multiplication(5, 3, 7) = 1\n",
      "modular_multiplication(4, 6, 11) = 2\n",
      "modular_multiplication(12, 8, 15) = 6\n"
     ]
    }
   ],
   "source": [
    "### 1.3 Multiplicación Modular\n",
    "# Función que calcula la multiplicación de dos enteros módulo p.\n",
    "# Argumentos: a (primer entero), b (segundo entero), p (módulo entero)\n",
    "# Return: Resultado de (a * b) mod p\n",
    "def modular_multiplication(a: int, b: int, p: int) -> int:\n",
    "    \n",
    "    return (a * b) % p # Retorno de la operación\n",
    "\n",
    "# Pruebas para multiplicación modular\n",
    "print(\"\\n=== Pruebas de Multiplicación Modular ===\")\n",
    "print(f\"modular_multiplication(5, 3, 7) = {modular_multiplication(5, 3, 7)}\")\n",
    "print(f\"modular_multiplication(4, 6, 11) = {modular_multiplication(4, 6, 11)}\")\n",
    "print(f\"modular_multiplication(12, 8, 15) = {modular_multiplication(12, 8, 15)}\")"
   ]
  },
  {
   "cell_type": "code",
   "execution_count": 56,
   "id": "4609ce13-fd0d-4d6b-87cd-a0c30e5b4c59",
   "metadata": {},
   "outputs": [],
   "source": [
    "### 1.4 Inverso Modular (usando Algoritmo Extendido de Euclides)\n",
    "# Algoritmo extendido de Euclides para encontrar gcd(a,b) y coeficientes x,y tal que ax + by = gcd(a,b)\n",
    "def extended_gcd(a: int, b: int) -> tuple:\n",
    "\n",
    "    if a == 0:\n",
    "        return b, 0, 1\n",
    "    \n",
    "    gcd, x1, y1 = extended_gcd(b % a, a)\n",
    "    x = y1 - (b // a) * x1\n",
    "    y = x1\n",
    "    \n",
    "    return gcd, x, y"
   ]
  },
  {
   "cell_type": "code",
   "execution_count": 57,
   "id": "bbef1251-d37a-4a7d-8511-832a564047f1",
   "metadata": {},
   "outputs": [],
   "source": [
    "# Retorna el inverso modular de a módulo p si existe. En caso de que no, lanza un error.\n",
    "# Argumentos: a (Entero a encontrar su inverso), p (Módulo entero).\n",
    "# Retorna el inverso modular de a mod p.\n",
    "def modular_inverse(a: int, p: int) -> int:\n",
    "\n",
    "    gcd, x, y = extended_gcd(a % p, p)\n",
    "    \n",
    "    if gcd != 1:\n",
    "        raise ValueError(f\"El inverso modular de {a} módulo {p} no existe (no son coprimos)\")\n",
    "    \n",
    "    return x % p"
   ]
  },
  {
   "cell_type": "code",
   "execution_count": 58,
   "id": "a0b32d0e-16d1-4853-8711-bdd3857903ea",
   "metadata": {},
   "outputs": [
    {
     "name": "stdout",
     "output_type": "stream",
     "text": [
      "\n",
      "=== Pruebas de Inverso Modular ===\n",
      "modular_inverse(3, 7) = 5\n",
      "Verificación: (3 * 5) mod 7 = 1\n",
      "modular_inverse(2, 5) = 3\n",
      "Verificación: (2 * 3) mod 5 = 1\n",
      "Error esperado: El inverso modular de 4 módulo 8 no existe (no son coprimos)\n"
     ]
    }
   ],
   "source": [
    "# Pruebas para inverso modular\n",
    "print(\"\\n=== Pruebas de Inverso Modular ===\")\n",
    "try:\n",
    "    inv = modular_inverse(3, 7)\n",
    "    print(f\"modular_inverse(3, 7) = {inv}\")  # Esperado: 5\n",
    "    print(f\"Verificación: (3 * {inv}) mod 7 = {(3 * inv) % 7}\")  # Debe ser 1\n",
    "    \n",
    "    inv = modular_inverse(2, 5)\n",
    "    print(f\"modular_inverse(2, 5) = {inv}\")  # Esperado: 3\n",
    "    print(f\"Verificación: (2 * {inv}) mod 5 = {(2 * inv) % 5}\")  # Debe ser 1\n",
    "    \n",
    "    # Caso donde no existe inverso\n",
    "    inv = modular_inverse(4, 8)\n",
    "    print(f\"modular_inverse(4, 8) = {inv}\")\n",
    "except ValueError as e:\n",
    "    print(f\"Error esperado: {e}\")"
   ]
  },
  {
   "cell_type": "code",
   "execution_count": 59,
   "id": "27e17818-f56f-45ef-8cb9-49bfd0652572",
   "metadata": {},
   "outputs": [
    {
     "name": "stdout",
     "output_type": "stream",
     "text": [
      "\n",
      "=== Pruebas de Conversión de Bases ===\n",
      "convert_base('101', 2, 10) = 5\n",
      "convert_base('FF', 16, 10) = 255\n",
      "convert_base('255', 10, 16) = FF\n",
      "convert_base('1010', 2, 8) = 12\n",
      "convert_base('Z', 36, 10) = 35\n"
     ]
    }
   ],
   "source": [
    "    ## Ejercicio 2: Conversión entre Bases\n",
    "    \n",
    "    def convert_base(n: str, from_base: int, to_base: int) -> str:\n",
    "        \"\"\"\n",
    "        Convierte un número n de una base from_base a otra base to_base.\n",
    "        Las bases pueden variar entre 2 y 36.\n",
    "        \n",
    "        Args:\n",
    "            n (str): Número a convertir (como string)\n",
    "            from_base (int): Base origen (2-36)\n",
    "            to_base (int): Base destino (2-36)\n",
    "        \n",
    "        Returns:\n",
    "            str: Número convertido en la base destino\n",
    "        \"\"\"\n",
    "        # Validar rango de bases\n",
    "        if not (2 <= from_base <= 36) or not (2 <= to_base <= 36):\n",
    "            raise ValueError(\"Las bases deben estar entre 2 y 36\")\n",
    "        \n",
    "        # Caracteres para bases hasta 36\n",
    "        digits = \"0123456789ABCDEFGHIJKLMNOPQRSTUVWXYZ\"\n",
    "        \n",
    "        # Paso 1: Convertir de la base origen a decimal\n",
    "        decimal_value = 0\n",
    "        n = n.upper()  # Convertir a mayúsculas para consistencia\n",
    "        \n",
    "        for i, digit in enumerate(reversed(n)):\n",
    "            if digit in digits:\n",
    "                digit_value = digits.index(digit)\n",
    "                if digit_value >= from_base:\n",
    "                    raise ValueError(f\"Dígito '{digit}' no válido para base {from_base}\")\n",
    "                decimal_value += digit_value * (from_base ** i)\n",
    "            else:\n",
    "                raise ValueError(f\"Carácter '{digit}' no válido\")\n",
    "        \n",
    "        # Paso 2: Convertir de decimal a la base destino\n",
    "        if decimal_value == 0:\n",
    "            return \"0\"\n",
    "        \n",
    "        result = \"\"\n",
    "        while decimal_value > 0:\n",
    "            remainder = decimal_value % to_base\n",
    "            result = digits[remainder] + result\n",
    "            decimal_value //= to_base\n",
    "        \n",
    "        return result\n",
    "    \n",
    "    # Pruebas para conversión de bases\n",
    "    print(\"\\n=== Pruebas de Conversión de Bases ===\")\n",
    "    print(f\"convert_base('101', 2, 10) = {convert_base('101', 2, 10)}\")  # Esperado: \"5\"\n",
    "    print(f\"convert_base('FF', 16, 10) = {convert_base('FF', 16, 10)}\")  # Esperado: \"255\"\n",
    "    print(f\"convert_base('255', 10, 16) = {convert_base('255', 10, 16)}\")  # Esperado: \"FF\"\n",
    "    print(f\"convert_base('1010', 2, 8) = {convert_base('1010', 2, 8)}\")  # Esperado: \"12\"\n",
    "    print(f\"convert_base('Z', 36, 10) = {convert_base('Z', 36, 10)}\")  # Esperado: \"35\""
   ]
  },
  {
   "cell_type": "code",
   "execution_count": 60,
   "id": "880cd851-8b1e-4087-9a47-f6d71cc8d3c9",
   "metadata": {},
   "outputs": [],
   "source": [
    "### 3.1 Cifrado de César\n",
    "def caesar_cipher(text: str, shift: int) -> str:\n",
    "    \"\"\"\n",
    "    Cifra un texto usando el cifrado de César con un desplazamiento módulo 26.\n",
    "    Solo cifra letras del alfabeto inglés, mantiene mayúsculas/minúsculas y otros caracteres.\n",
    "    \n",
    "    Args:\n",
    "        text (str): Texto a cifrar\n",
    "        shift (int): Desplazamiento para el cifrado\n",
    "    \n",
    "    Returns:\n",
    "        str: Texto cifrado\n",
    "    \"\"\"\n",
    "    result = \"\"\n",
    "    \n",
    "    for char in text:\n",
    "        if char.isalpha():\n",
    "            # Determinar si es mayúscula o minúscula\n",
    "            is_upper = char.isupper()\n",
    "            \n",
    "            # Convertir a minúscula para trabajar uniformemente\n",
    "            char = char.lower()\n",
    "            \n",
    "            # Aplicar el desplazamiento módulo 26\n",
    "            shifted_pos = (ord(char) - ord('a') + shift) % 26\n",
    "            shifted_char = chr(shifted_pos + ord('a'))\n",
    "            \n",
    "            # Restaurar mayúscula si era necesario\n",
    "            if is_upper:\n",
    "                shifted_char = shifted_char.upper()\n",
    "            \n",
    "            result += shifted_char\n",
    "        else:\n",
    "            # Mantener caracteres no alfabéticos sin cambios\n",
    "            result += char\n",
    "    \n",
    "    return result"
   ]
  },
  {
   "cell_type": "code",
   "execution_count": 61,
   "id": "b4995e06-2246-4d3b-83fc-dd02d71af50e",
   "metadata": {},
   "outputs": [
    {
     "name": "stdout",
     "output_type": "stream",
     "text": [
      "\n",
      "=== Pruebas de Cifrado de César ===\n",
      "caesar_cipher('Hola que tal, soy Batman', 3) = 'Krod txh wdo, vrb Edwpdq!'\n",
      "caesar_cipher('BEEAKFYDJXUQYHYJIQRYHTYJIQFBQDUYJIIKFUHCQD', 0) = 'BEEAKFYDJXUQYHYJIQRYHTYJIQFBQDUYJIIKFUHCQD'\n",
      "caesar_cipher('BEEAKFYDJXUQYHYJIQRYHTYJIQFBQDUYJIIKFUHCQD', 1) = 'CFFBLGZEKYVRZIZKJRSZIUZKJRGCREVZKJJLGVIDRE'\n",
      "caesar_cipher('LOOKUPINTHEAIRITSABIRDITSAPLANEITSSUPERMAN', 16) = 'BEEAKFYDJXUQYHYJIQRYHTYJIQFBQDUYJIIKFUHCQD'\n",
      "caesar_cipher('Cryptography 101', 13) = 'Pelcgbtencul 101'\n"
     ]
    }
   ],
   "source": [
    "\n",
    "# Pruebas para cifrado de César\n",
    "print(\"\\n=== Pruebas de Cifrado de César ===\")\n",
    "print(f\"caesar_cipher('Hola que tal, soy Batman', 3) = '{caesar_cipher('Hola que tal, soy Batman!', 3)}'\")\n",
    "print(f\"caesar_cipher('BEEAKFYDJXUQYHYJIQRYHTYJIQFBQDUYJIIKFUHCQD', 0) = '{caesar_cipher('BEEAKFYDJXUQYHYJIQRYHTYJIQFBQDUYJIIKFUHCQD', 0)}'\")\n",
    "print(f\"caesar_cipher('BEEAKFYDJXUQYHYJIQRYHTYJIQFBQDUYJIIKFUHCQD', 1) = '{caesar_cipher('BEEAKFYDJXUQYHYJIQRYHTYJIQFBQDUYJIIKFUHCQD', 1)}'\")\n",
    "print(f\"caesar_cipher('LOOKUPINTHEAIRITSABIRDITSAPLANEITSSUPERMAN', 16) = '{caesar_cipher('LOOKUPINTHEAIRITSABIRDITSAPLANEITSSUPERMAN', 16)}'\")\n",
    "print(f\"caesar_cipher('Cryptography 101', 13) = '{caesar_cipher('Cryptography 101', 13)}'\")"
   ]
  },
  {
   "cell_type": "code",
   "execution_count": 64,
   "id": "badd89cd-fd6c-4af6-8a36-85ac1a586e43",
   "metadata": {},
   "outputs": [],
   "source": [
    "### 3.2 Cifrado Afín\n",
    "def gcd(a: int, b: int) -> int:\n",
    "    \"\"\"Calcula el máximo común divisor usando el algoritmo de Euclides\"\"\"\n",
    "    while b:              # Mientras b no sea 0\n",
    "        a, b = b, a % b       # Sustituye 'a' por 'b', y 'b' por el residuo de a dividido entre b\n",
    "    return a              # Cuando b = 0, 'a' contiene el MCD\n"
   ]
  },
  {
   "cell_type": "code",
   "execution_count": 65,
   "id": "c57d9f8e-4eea-49a3-98f7-0b202f3d5fa7",
   "metadata": {},
   "outputs": [],
   "source": [
    "def modular_inverse(a, m):\n",
    "    \"\"\"Calcula el inverso modular usando algoritmo extendido de Euclides\"\"\"\n",
    "    if gcd(a, m) != 1:\n",
    "        raise ValueError(f\"No existe inverso: {a} y {m} no son coprimos\")\n",
    "    \n",
    "    original_m = m\n",
    "    x0, x1 = 0, 1\n",
    "    \n",
    "    while a > 1:\n",
    "        q = a // m                   # Cociente de la división\n",
    "        m, a = a % m, m              # Avanzar como en Euclides extendido\n",
    "        x0, x1 = x1 - q * x0, x0     # Actualizar coeficientes (inverso)\n",
    "    \n",
    "    return x1 % original_m\n"
   ]
  },
  {
   "cell_type": "code",
   "execution_count": 66,
   "id": "309f01a1-ccd2-4c46-b1d9-e9e32d3d02c0",
   "metadata": {},
   "outputs": [],
   "source": [
    "def affine_cipher(text, a, b):\n",
    "    \"\"\"\n",
    "    Cifra texto usando cifrado afín: E(x) = (a * x + b) mod 26\n",
    "    a debe ser coprimo con 26\n",
    "    \"\"\"\n",
    "    if gcd(a, 26) != 1:\n",
    "        raise ValueError(f\"a={a} debe ser coprimo con 26\")\n",
    "    \n",
    "    result = \"\"\n",
    "    for char in text:\n",
    "        if char.isalpha():\n",
    "            # Mantener mayúsculas/minúsculas\n",
    "            is_upper = char.isupper()\n",
    "            pos = ord(char.lower()) - ord('a')   # Convertir letra a número (0–25)\n",
    "            \n",
    "            # Aplicar fórmula afín\n",
    "            new_pos = (a * pos + b) % 26\n",
    "            new_char = chr(new_pos + ord('a'))   # Volver a letra\n",
    "            \n",
    "            result += new_char.upper() if is_upper else new_char\n",
    "        else:\n",
    "            result += char                       # No altera caracteres no alfabéticos\n",
    "    \n",
    "    return result\n"
   ]
  },
  {
   "cell_type": "code",
   "execution_count": 67,
   "id": "233750a8-0153-4358-b658-5889934c5984",
   "metadata": {},
   "outputs": [],
   "source": [
    "def affine_decipher(text, a, b):\n",
    "    \"\"\"Descifra texto cifrado con afín usando la función inversa\"\"\"\n",
    "    if gcd(a, 26) != 1:\n",
    "        raise ValueError(f\"a={a} debe ser coprimo con 26\")\n",
    "    \n",
    "    a_inv = modular_inverse(a, 26)\n",
    "    result = \"\"\n",
    "    \n",
    "    for char in text:\n",
    "        if char.isalpha():\n",
    "            is_upper = char.isupper()\n",
    "            pos = ord(char.lower()) - ord('a')\n",
    "            \n",
    "            # Función inversa: D(y) = a^(-1) * (y - b) mod 26\n",
    "            orig_pos = (a_inv * (pos - b)) % 26\n",
    "            orig_char = chr(orig_pos + ord('a'))\n",
    "            \n",
    "            result += orig_char.upper() if is_upper else orig_char\n",
    "        else:\n",
    "            result += char\n",
    "    \n",
    "    return result"
   ]
  },
  {
   "cell_type": "code",
   "execution_count": 68,
   "id": "6a94a72c-b30e-4207-8cbb-5e05bc9e6ec8",
   "metadata": {},
   "outputs": [],
   "source": [
    "def caesar_cipher(text, shift):\n",
    "    \"\"\"Cifra texto con César (caso especial de afín donde a=1)\"\"\"\n",
    "    return affine_cipher(text, 1, shift % 26)"
   ]
  },
  {
   "cell_type": "code",
   "execution_count": 69,
   "id": "446189de-f3a4-4d7a-89bd-4853f9687c51",
   "metadata": {},
   "outputs": [],
   "source": [
    "def caesar_decipher(text, shift):\n",
    "    \"\"\"Descifra texto de César\"\"\"\n",
    "    return caesar_cipher(text, -shift)\n"
   ]
  },
  {
   "cell_type": "code",
   "execution_count": 70,
   "id": "0abf6920-797c-451b-8c32-e9860cd551ae",
   "metadata": {},
   "outputs": [
    {
     "name": "stdout",
     "output_type": "stream",
     "text": [
      "=== Pruebas de Cifrado Afín ===\n",
      "Texto: 'Hello World!' -> Cifrado: 'Rclla Oaplx!' -> Descifrado: 'Hello World!'\n",
      "Texto: 'CRYPTOGRAPHY' -> Cifrado: 'NGBAMXZGHACB' -> Descifrado: 'CRYPTOGRAPHY'\n",
      "Texto: 'Test' -> Cifrado: 'Rmir' -> Descifrado: 'Test'\n",
      "\n",
      "Resolviendo: BEEAKFYDJXUQYHYJIQRYHTYJIQFBQDUYJIIKFUHCQD\n",
      "Con clave (1, 16): LOOKUPINTHEAIRITSABIRDITSAPLANEITSSUPERMAN\n",
      "\n",
      "Probando todas las claves...\n",
      "Total de combinaciones: 312\n",
      "Clave (1, 0): BEEAKFYDJXUQYHYJIQRYHTYJIQFBQDUYJIIKFUHCQD\n",
      "Clave (1, 1): ADDZJEXCIWTPXGXIHPQXGSXIHPEAPCTXIHHJETGBPC\n",
      "Clave (1, 2): ZCCYIDWBHVSOWFWHGOPWFRWHGODZOBSWHGGIDSFAOB\n",
      "Clave (1, 3): YBBXHCVAGURNVEVGFNOVEQVGFNCYNARVGFFHCREZNA\n",
      "Clave (1, 4): XAAWGBUZFTQMUDUFEMNUDPUFEMBXMZQUFEEGBQDYMZ\n",
      "\n",
      "=== Pruebas de César ===\n",
      "César - Original: 'Hello World!' -> Cifrado: 'Khoor Zruog!' -> Descifrado: 'Hello World!'\n"
     ]
    }
   ],
   "source": [
    "# Pruebas básicas\n",
    "print(\"=== Pruebas de Cifrado Afín ===\")\n",
    "\n",
    "# Casos de prueba\n",
    "test_cases = [\n",
    "    (\"Hello World!\", 5, 8),\n",
    "    (\"CRYPTOGRAPHY\", 3, 7),\n",
    "    (\"Test\", 9, 2)\n",
    "]\n",
    "\n",
    "for text, a, b in test_cases:\n",
    "    try:\n",
    "        encrypted = affine_cipher(text, a, b)\n",
    "        decrypted = affine_decipher(encrypted, a, b)\n",
    "        print(f\"Texto: '{text}' -> Cifrado: '{encrypted}' -> Descifrado: '{decrypted}'\")\n",
    "    except ValueError as e:\n",
    "        print(f\"Error con ({a}, {b}): {e}\")\n",
    "\n",
    "# Caso especial: resolver texto problema\n",
    "target = \"BEEAKFYDJXUQYHYJIQRYHTYJIQFBQDUYJIIKFUHCQD\"\n",
    "print(f\"\\nResolviendo: {target}\")\n",
    "try:\n",
    "    solution = affine_decipher(target, 1, 16)\n",
    "    print(f\"Con clave (1, 16): {solution}\")\n",
    "except ValueError as e:\n",
    "    print(f\"Error: {e}\")\n",
    "\n",
    "# Fuerza bruta simple\n",
    "def find_affine_key(ciphertext):\n",
    "    \"\"\"Prueba todas las claves afín posibles\"\"\"\n",
    "    valid_a = [i for i in range(1, 26) if gcd(i, 26) == 1]\n",
    "    results = []\n",
    "    \n",
    "    for a in valid_a:\n",
    "        for b in range(26):\n",
    "            try:\n",
    "                decrypted = affine_decipher(ciphertext, a, b)\n",
    "                results.append((a, b, decrypted))\n",
    "            except:\n",
    "                continue\n",
    "    \n",
    "    return results\n",
    "\n",
    "# Buscar la mejor solución\n",
    "print(\"\\nProbando todas las claves...\")\n",
    "all_results = find_affine_key(target)\n",
    "print(f\"Total de combinaciones: {len(all_results)}\")\n",
    "\n",
    "# Mostrar solo algunos resultados\n",
    "for i, (a, b, text) in enumerate(all_results[:5]):\n",
    "    print(f\"Clave ({a}, {b}): {text}\")\n",
    "\n",
    "# Pruebas de César\n",
    "print(\"\\n=== Pruebas de César ===\")\n",
    "original = \"Hello World!\"\n",
    "caesar_encrypted = caesar_cipher(original, 3)\n",
    "caesar_decrypted = caesar_decipher(caesar_encrypted, 3)\n",
    "print(f\"César - Original: '{original}' -> Cifrado: '{caesar_encrypted}' -> Descifrado: '{caesar_decrypted}'\")"
   ]
  }
 ],
 "metadata": {
  "kernelspec": {
   "display_name": "Python (venv_cryptography)",
   "language": "python",
   "name": "venv_cryptography"
  },
  "language_info": {
   "codemirror_mode": {
    "name": "ipython",
    "version": 3
   },
   "file_extension": ".py",
   "mimetype": "text/x-python",
   "name": "python",
   "nbconvert_exporter": "python",
   "pygments_lexer": "ipython3",
   "version": "3.13.5"
  }
 },
 "nbformat": 4,
 "nbformat_minor": 5
}
